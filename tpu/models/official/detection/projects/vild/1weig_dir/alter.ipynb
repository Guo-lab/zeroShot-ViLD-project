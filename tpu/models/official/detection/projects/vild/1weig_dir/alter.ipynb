{
 "cells": [
  {
   "cell_type": "code",
   "execution_count": 2,
   "metadata": {},
   "outputs": [
    {
     "data": {
      "text/plain": [
       "array([[-0.01092781, -0.02876949,  0.00822527, ..., -0.02250493,\n",
       "        -0.0310634 , -0.00491536],\n",
       "       [ 0.02829926,  0.01991778,  0.02743463, ...,  0.01323096,\n",
       "        -0.00493375,  0.04712516],\n",
       "       [-0.00054135, -0.02447395, -0.00714376, ..., -0.02444796,\n",
       "        -0.00380919,  0.00637655],\n",
       "       ...,\n",
       "       [-0.03173125,  0.01013991, -0.02298419, ...,  0.01131245,\n",
       "         0.01129012,  0.01441749],\n",
       "       [ 0.02321692,  0.03561938,  0.01821043, ...,  0.00310367,\n",
       "         0.01670858,  0.03844849],\n",
       "       [-0.01475452,  0.01225657, -0.01769463, ...,  0.00677676,\n",
       "         0.0683824 ,  0.01265326]], dtype=float32)"
      ]
     },
     "execution_count": 2,
     "metadata": {},
     "output_type": "execute_result"
    }
   ],
   "source": [
    "import numpy as np\n",
    "\n",
    "m = np.load('clip_synonym_prompt.npy')\n",
    "m"
   ]
  },
  {
   "cell_type": "code",
   "execution_count": 3,
   "metadata": {},
   "outputs": [
    {
     "data": {
      "text/plain": [
       "(512, 1203)"
      ]
     },
     "execution_count": 3,
     "metadata": {},
     "output_type": "execute_result"
    }
   ],
   "source": [
    "m.shape"
   ]
  },
  {
   "cell_type": "code",
   "execution_count": 9,
   "metadata": {},
   "outputs": [
    {
     "data": {
      "text/plain": [
       "array([[-0.01019891,  0.00849962,  0.        , ...,  0.        ,\n",
       "         0.        ,  0.        ],\n",
       "       [ 0.04087868,  0.0193888 ,  0.        , ...,  0.        ,\n",
       "         0.        ,  0.        ],\n",
       "       [-0.0235099 ,  0.00259588,  0.        , ...,  0.        ,\n",
       "         0.        ,  0.        ],\n",
       "       ...,\n",
       "       [ 0.00338698, -0.01720456,  0.        , ...,  0.        ,\n",
       "         0.        ,  0.        ],\n",
       "       [ 0.00275074, -0.01035978,  0.        , ...,  0.        ,\n",
       "         0.        ,  0.        ],\n",
       "       [-0.01476706, -0.00733217,  0.        , ...,  0.        ,\n",
       "         0.        ,  0.        ]], dtype=float32)"
      ]
     },
     "execution_count": 9,
     "metadata": {},
     "output_type": "execute_result"
    }
   ],
   "source": [
    "m[:, 8:1203] = 0\n",
    "m[:, 6:1203]"
   ]
  },
  {
   "cell_type": "code",
   "execution_count": null,
   "metadata": {},
   "outputs": [],
   "source": [
    "np.save('clip_synonym_prompt_new.npy', m)"
   ]
  }
 ],
 "metadata": {
  "kernelspec": {
   "display_name": "Python 3.9.12 ('zeroShot')",
   "language": "python",
   "name": "python3"
  },
  "language_info": {
   "codemirror_mode": {
    "name": "ipython",
    "version": 3
   },
   "file_extension": ".py",
   "mimetype": "text/x-python",
   "name": "python",
   "nbconvert_exporter": "python",
   "pygments_lexer": "ipython3",
   "version": "3.9.12"
  },
  "orig_nbformat": 4,
  "vscode": {
   "interpreter": {
    "hash": "86c8192e3b52dd5b61cf7d633d9cde44ca62fe25113112c353ce106148b537f5"
   }
  }
 },
 "nbformat": 4,
 "nbformat_minor": 2
}
